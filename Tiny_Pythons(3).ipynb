{
 "cells": [
  {
   "cell_type": "code",
   "execution_count": 3,
   "id": "58ecd92b",
   "metadata": {},
   "outputs": [],
   "source": [
    "import pandas as pd \n",
    "import numpy as np\n",
    "import matplotlib as mp\n",
    "import seaborn as snb\n",
    "import math\n",
    "import matplotlib.pyplot as plt\n",
    "from datetime import date\n",
    "\n",
    "Patients = pd.read_excel(\"HospitalDatabase .xlsx\",\"Patients\")\n",
    "EDVisits = pd.read_excel(\"HospitalDatabase .xlsx\",\"EDVisits\")\n",
    "AmbulatoryVisits = pd.read_excel(\"HospitalDatabase .xlsx\",\"AmbulatoryVisits\")\n",
    "ReAdmissionRegistry = pd.read_excel(\"HospitalDatabase .xlsx\",\"ReAdmissionRegistry\")\n",
    "Discharges = pd.read_excel(\"HospitalDatabase .xlsx\",\"Discharges\")\n",
    "Providers = pd.read_excel(\"HospitalDatabase .xlsx\",\"Providers\")\n",
    "\n",
    "EDUnique = pd.read_excel(\"HospitalDatabase .xlsx\",\"EDUnique\")\n",
    "Merged = pd.merge(Patients, Discharges, on=\"PatientID\")\n",
    "Merged1= pd.merge(Patients, ReAdmissionRegistry, on=\"PatientID\", how=\"left\")"
   ]
  },
  {
   "cell_type": "code",
   "execution_count": 4,
   "id": "e88da472",
   "metadata": {},
   "outputs": [
    {
     "data": {
      "text/plain": [
       "3        4\n",
       "142    135\n",
       "152    145\n",
       "196    189\n",
       "207    200\n",
       "      ... \n",
       "956    941\n",
       "957    942\n",
       "958    943\n",
       "959    944\n",
       "960    945\n",
       "Name: PatientID, Length: 241, dtype: int64"
      ]
     },
     "execution_count": 4,
     "metadata": {},
     "output_type": "execute_result"
    }
   ],
   "source": [
    "######9.Get the list of patient ID's which are not there in ReadmissionRegistry.\n",
    "Merged1= pd.merge(Patients, ReAdmissionRegistry, on=\"PatientID\", how=\"left\")\n",
    "Merged2 = Merged1[Merged1['AdmissionID'].isnull()]\n",
    "#Merged2.head()\n",
    "Merged2['PatientID']\n",
    "#rows_count = Merged2.count()[0]\n",
    "#print('Number of Rows count is:', rows_count )"
   ]
  },
  {
   "cell_type": "code",
   "execution_count": null,
   "id": "2ac1dc25",
   "metadata": {},
   "outputs": [],
   "source": []
  }
 ],
 "metadata": {
  "kernelspec": {
   "display_name": "Python 3 (ipykernel)",
   "language": "python",
   "name": "python3"
  },
  "language_info": {
   "codemirror_mode": {
    "name": "ipython",
    "version": 3
   },
   "file_extension": ".py",
   "mimetype": "text/x-python",
   "name": "python",
   "nbconvert_exporter": "python",
   "pygments_lexer": "ipython3",
   "version": "3.9.12"
  }
 },
 "nbformat": 4,
 "nbformat_minor": 5
}
